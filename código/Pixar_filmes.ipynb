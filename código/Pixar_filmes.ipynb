{
 "cells": [
  {
   "cell_type": "markdown",
   "metadata": {},
   "source": [
    "# Contextualização  \n",
    "\n",
    "O banco de dados que escolhemos analisar faz parte de um pacote chamado \"dados\", se trata de um pacote que traduz bases de dados de outros pacotes. E a database que analisamos traz os números referentes a bilheteria de alguns filmes da pixar."
   ]
  },
  {
   "cell_type": "markdown",
   "metadata": {},
   "source": [
    "# Carregamento de pacotes\n",
    "Os pacotes que iremos utilizar serão:"
   ]
  },
  {
   "cell_type": "code",
   "execution_count": 4,
   "metadata": {
    "vscode": {
     "languageId": "r"
    }
   },
   "outputs": [],
   "source": [
    "library(tidyverse)\n",
    "library(kableExtra)\n",
    "library(dados);"
   ]
  },
  {
   "cell_type": "markdown",
   "metadata": {},
   "source": [
    "# Leitura e visualização do banco de dados\n",
    "\n",
    "  As bases que utilizaremos contam com um total de 24 observações e 10 variáveis, sendo elas: \n",
    "  \n",
    "  1. `filme`: Nome do filme analisado \n",
    "  1. `orcamento`: Orçamento que o filme recebeu para sua produção em milhões de dólares \n",
    "  1. `bilheteria_eua_canada`: Valor arrecadado com as bilheterias dos Estados Unidos e do Canadá em milhões de dólares\n",
    "  1. `bilheteria_outros_paises`: Valor arrecadado com as bilheterias de outros países além dos Estados Unidos e do Canadá em milhões de dólares\n",
    "  1. `bilheteria_mundial`: Bilheteria total arrecadada em milhões de dólares\n",
    "  1. `nota_rotten_tomatoes`: Nota crítica do filme pelo site [Rotten Tomatoes](https://www.rottentomatoes.com) de 0 (ruim) à 100 (bom)\n",
    "  1. `nota_metacritic`: Nota crítica do filme pelo site [Metacritic](https://www.metacritic.com) de 0 (ruim) à 100 (bom)\n",
    "  1. `nota_cinema_score`: Nota crítica do filme pelo site [Cinema Score](https://www.cinemascore.com) sendo avaliado de -A (ruim) à A++ (bom)\n",
    "  1. `nota_critics_choice`: Nota crítica pelo site [Critics Choice](https://www.cinemascore.com) de 0 (ruim) à 100 (bom)"
   ]
  },
  {
   "cell_type": "code",
   "execution_count": 5,
   "metadata": {
    "vscode": {
     "languageId": "r"
    }
   },
   "outputs": [
    {
     "name": "stdout",
     "output_type": "stream",
     "text": [
      "Rows: 24\n",
      "Columns: 5\n",
      "$ Filmes                        \u001b[3m\u001b[90m<chr>\u001b[39m\u001b[23m \"Toy Story - Um Mundo de Aventuras\", \"Vi…\n",
      "$ Orçamento                     \u001b[3m\u001b[90m<dbl>\u001b[39m\u001b[23m 30, 120, 90, 115, 94, 92, 120, 150, 180,…\n",
      "$ `Bilheteria EUA/CA`           \u001b[3m\u001b[90m<dbl>\u001b[39m\u001b[23m 191.79623, 162.79856, 245.85218, 289.916…\n",
      "$ `Bilheteria de outros países` \u001b[3m\u001b[90m<dbl>\u001b[39m\u001b[23m 181.75780, 200.46029, 251.52260, 342.400…\n",
      "$ `Bilheteria mundial`          \u001b[3m\u001b[90m<dbl>\u001b[39m\u001b[23m 373.5540, 363.2589, 497.3748, 632.3166, …\n"
     ]
    }
   ],
   "source": [
    "dados1 <- pixar_bilheteria\n",
    "dados1[c(\"orcamento\", \"bilheteria_eua_canada\", \"bilheteria_outros_paises\",\n",
    "         \"bilheteria_mundial\")] <- dados1[c(\"orcamento\", \"bilheteria_eua_canada\", \"bilheteria_outros_paises\",\"bilheteria_mundial\")]/1e6\n",
    "renomeando_colunas <- c(\n",
    "  \"Filmes\", \"Orçamento\", \"Bilheteria EUA/CA\", \"Bilheteria de outros países\",\n",
    "  \"Bilheteria mundial\"\n",
    ")\n",
    "colnames(dados1) <- renomeando_colunas\n",
    "glimpse(dados1)"
   ]
  },
  {
   "cell_type": "markdown",
   "metadata": {},
   "source": [
    "## Coluna com os filmes\n",
    "\n",
    "Alguns filmes que foram analizados: "
   ]
  },
  {
   "cell_type": "code",
   "execution_count": 15,
   "metadata": {
    "vscode": {
     "languageId": "r"
    }
   },
   "outputs": [
    {
     "data": {
      "text/html": [
       "<table class=\"dataframe\">\n",
       "<caption>A tibble: 23 × 5</caption>\n",
       "<thead>\n",
       "\t<tr><th scope=col>filme</th><th scope=col>orcamento</th><th scope=col>bilheteria_eua_canada</th><th scope=col>bilheteria_outros_paises</th><th scope=col>bilheteria_mundial</th></tr>\n",
       "\t<tr><th scope=col>&lt;chr&gt;</th><th scope=col>&lt;dbl&gt;</th><th scope=col>&lt;dbl&gt;</th><th scope=col>&lt;dbl&gt;</th><th scope=col>&lt;dbl&gt;</th></tr>\n",
       "</thead>\n",
       "<tbody>\n",
       "\t<tr><td>Toy Story - Um Mundo de Aventuras  </td><td> 30</td><td>191.79623</td><td>181.75780</td><td> 373.5540</td></tr>\n",
       "\t<tr><td>Vida de Inseto                     </td><td>120</td><td>162.79856</td><td>200.46029</td><td> 363.2589</td></tr>\n",
       "\t<tr><td>Toy Story 2                        </td><td> 90</td><td>245.85218</td><td>251.52260</td><td> 497.3748</td></tr>\n",
       "\t<tr><td>Monstros S. A.                     </td><td>115</td><td>289.91626</td><td>342.40039</td><td> 632.3166</td></tr>\n",
       "\t<tr><td>Procurando Nemo                    </td><td> 94</td><td>339.71498</td><td>531.30000</td><td> 871.0150</td></tr>\n",
       "\t<tr><td>Os Incríveis                       </td><td> 92</td><td>261.44109</td><td>370.16562</td><td> 631.6067</td></tr>\n",
       "\t<tr><td>Carros                             </td><td>120</td><td>244.08298</td><td>217.90017</td><td> 461.9831</td></tr>\n",
       "\t<tr><td>Ratatouille                        </td><td>150</td><td>206.44565</td><td>417.28043</td><td> 623.7261</td></tr>\n",
       "\t<tr><td>WALL-E                             </td><td>180</td><td>223.80816</td><td>297.50370</td><td> 521.3119</td></tr>\n",
       "\t<tr><td>Up - Altas Aventuras               </td><td>175</td><td>293.00416</td><td>442.09492</td><td> 735.0991</td></tr>\n",
       "\t<tr><td>Toy Story 3                        </td><td>200</td><td>415.00488</td><td>651.96482</td><td>1066.9697</td></tr>\n",
       "\t<tr><td>Carros 2                           </td><td>200</td><td>191.45240</td><td>368.40000</td><td> 559.8524</td></tr>\n",
       "\t<tr><td>Valente                            </td><td>185</td><td>237.28321</td><td>301.70000</td><td> 538.9832</td></tr>\n",
       "\t<tr><td>Universidade Monstros              </td><td>200</td><td>268.49276</td><td>475.06684</td><td> 743.5596</td></tr>\n",
       "\t<tr><td>Divertidamente                     </td><td>175</td><td>356.46171</td><td>501.14946</td><td> 857.6112</td></tr>\n",
       "\t<tr><td>O Bom Dinossauro                   </td><td>175</td><td>123.08712</td><td>209.12055</td><td> 332.2077</td></tr>\n",
       "\t<tr><td>Procurando Dory                    </td><td>200</td><td>486.29556</td><td>542.27533</td><td>1028.5709</td></tr>\n",
       "\t<tr><td>Carros 3                           </td><td>175</td><td>152.90112</td><td>231.02954</td><td> 383.9307</td></tr>\n",
       "\t<tr><td>Viva - A Vida é Uma Festa          </td><td>175</td><td>209.72601</td><td>597.35618</td><td> 807.0822</td></tr>\n",
       "\t<tr><td>Os Incríveis 2                     </td><td>200</td><td>608.58174</td><td>634.22361</td><td>1242.8054</td></tr>\n",
       "\t<tr><td>Toy Story 4                        </td><td>200</td><td>434.03801</td><td>639.35658</td><td>1073.3946</td></tr>\n",
       "\t<tr><td>Dois Irmãos: Uma Jornada Fantástica</td><td>175</td><td> 61.55515</td><td> 80.39498</td><td> 141.9501</td></tr>\n",
       "\t<tr><td>Soul                               </td><td>175</td><td>       NA</td><td>135.43532</td><td> 135.4353</td></tr>\n",
       "</tbody>\n",
       "</table>\n"
      ],
      "text/latex": [
       "A tibble: 23 × 5\n",
       "\\begin{tabular}{lllll}\n",
       " filme & orcamento & bilheteria\\_eua\\_canada & bilheteria\\_outros\\_paises & bilheteria\\_mundial\\\\\n",
       " <chr> & <dbl> & <dbl> & <dbl> & <dbl>\\\\\n",
       "\\hline\n",
       "\t Toy Story - Um Mundo de Aventuras   &  30 & 191.79623 & 181.75780 &  373.5540\\\\\n",
       "\t Vida de Inseto                      & 120 & 162.79856 & 200.46029 &  363.2589\\\\\n",
       "\t Toy Story 2                         &  90 & 245.85218 & 251.52260 &  497.3748\\\\\n",
       "\t Monstros S. A.                      & 115 & 289.91626 & 342.40039 &  632.3166\\\\\n",
       "\t Procurando Nemo                     &  94 & 339.71498 & 531.30000 &  871.0150\\\\\n",
       "\t Os Incríveis                        &  92 & 261.44109 & 370.16562 &  631.6067\\\\\n",
       "\t Carros                              & 120 & 244.08298 & 217.90017 &  461.9831\\\\\n",
       "\t Ratatouille                         & 150 & 206.44565 & 417.28043 &  623.7261\\\\\n",
       "\t WALL-E                              & 180 & 223.80816 & 297.50370 &  521.3119\\\\\n",
       "\t Up - Altas Aventuras                & 175 & 293.00416 & 442.09492 &  735.0991\\\\\n",
       "\t Toy Story 3                         & 200 & 415.00488 & 651.96482 & 1066.9697\\\\\n",
       "\t Carros 2                            & 200 & 191.45240 & 368.40000 &  559.8524\\\\\n",
       "\t Valente                             & 185 & 237.28321 & 301.70000 &  538.9832\\\\\n",
       "\t Universidade Monstros               & 200 & 268.49276 & 475.06684 &  743.5596\\\\\n",
       "\t Divertidamente                      & 175 & 356.46171 & 501.14946 &  857.6112\\\\\n",
       "\t O Bom Dinossauro                    & 175 & 123.08712 & 209.12055 &  332.2077\\\\\n",
       "\t Procurando Dory                     & 200 & 486.29556 & 542.27533 & 1028.5709\\\\\n",
       "\t Carros 3                            & 175 & 152.90112 & 231.02954 &  383.9307\\\\\n",
       "\t Viva - A Vida é Uma Festa           & 175 & 209.72601 & 597.35618 &  807.0822\\\\\n",
       "\t Os Incríveis 2                      & 200 & 608.58174 & 634.22361 & 1242.8054\\\\\n",
       "\t Toy Story 4                         & 200 & 434.03801 & 639.35658 & 1073.3946\\\\\n",
       "\t Dois Irmãos: Uma Jornada Fantástica & 175 &  61.55515 &  80.39498 &  141.9501\\\\\n",
       "\t Soul                                & 175 &        NA & 135.43532 &  135.4353\\\\\n",
       "\\end{tabular}\n"
      ],
      "text/markdown": [
       "\n",
       "A tibble: 23 × 5\n",
       "\n",
       "| filme &lt;chr&gt; | orcamento &lt;dbl&gt; | bilheteria_eua_canada &lt;dbl&gt; | bilheteria_outros_paises &lt;dbl&gt; | bilheteria_mundial &lt;dbl&gt; |\n",
       "|---|---|---|---|---|\n",
       "| Toy Story - Um Mundo de Aventuras   |  30 | 191.79623 | 181.75780 |  373.5540 |\n",
       "| Vida de Inseto                      | 120 | 162.79856 | 200.46029 |  363.2589 |\n",
       "| Toy Story 2                         |  90 | 245.85218 | 251.52260 |  497.3748 |\n",
       "| Monstros S. A.                      | 115 | 289.91626 | 342.40039 |  632.3166 |\n",
       "| Procurando Nemo                     |  94 | 339.71498 | 531.30000 |  871.0150 |\n",
       "| Os Incríveis                        |  92 | 261.44109 | 370.16562 |  631.6067 |\n",
       "| Carros                              | 120 | 244.08298 | 217.90017 |  461.9831 |\n",
       "| Ratatouille                         | 150 | 206.44565 | 417.28043 |  623.7261 |\n",
       "| WALL-E                              | 180 | 223.80816 | 297.50370 |  521.3119 |\n",
       "| Up - Altas Aventuras                | 175 | 293.00416 | 442.09492 |  735.0991 |\n",
       "| Toy Story 3                         | 200 | 415.00488 | 651.96482 | 1066.9697 |\n",
       "| Carros 2                            | 200 | 191.45240 | 368.40000 |  559.8524 |\n",
       "| Valente                             | 185 | 237.28321 | 301.70000 |  538.9832 |\n",
       "| Universidade Monstros               | 200 | 268.49276 | 475.06684 |  743.5596 |\n",
       "| Divertidamente                      | 175 | 356.46171 | 501.14946 |  857.6112 |\n",
       "| O Bom Dinossauro                    | 175 | 123.08712 | 209.12055 |  332.2077 |\n",
       "| Procurando Dory                     | 200 | 486.29556 | 542.27533 | 1028.5709 |\n",
       "| Carros 3                            | 175 | 152.90112 | 231.02954 |  383.9307 |\n",
       "| Viva - A Vida é Uma Festa           | 175 | 209.72601 | 597.35618 |  807.0822 |\n",
       "| Os Incríveis 2                      | 200 | 608.58174 | 634.22361 | 1242.8054 |\n",
       "| Toy Story 4                         | 200 | 434.03801 | 639.35658 | 1073.3946 |\n",
       "| Dois Irmãos: Uma Jornada Fantástica | 175 |  61.55515 |  80.39498 |  141.9501 |\n",
       "| Soul                                | 175 |        NA | 135.43532 |  135.4353 |\n",
       "\n"
      ],
      "text/plain": [
       "   filme                               orcamento bilheteria_eua_canada\n",
       "1  Toy Story - Um Mundo de Aventuras    30       191.79623            \n",
       "2  Vida de Inseto                      120       162.79856            \n",
       "3  Toy Story 2                          90       245.85218            \n",
       "4  Monstros S. A.                      115       289.91626            \n",
       "5  Procurando Nemo                      94       339.71498            \n",
       "6  Os Incríveis                         92       261.44109            \n",
       "7  Carros                              120       244.08298            \n",
       "8  Ratatouille                         150       206.44565            \n",
       "9  WALL-E                              180       223.80816            \n",
       "10 Up - Altas Aventuras                175       293.00416            \n",
       "11 Toy Story 3                         200       415.00488            \n",
       "12 Carros 2                            200       191.45240            \n",
       "13 Valente                             185       237.28321            \n",
       "14 Universidade Monstros               200       268.49276            \n",
       "15 Divertidamente                      175       356.46171            \n",
       "16 O Bom Dinossauro                    175       123.08712            \n",
       "17 Procurando Dory                     200       486.29556            \n",
       "18 Carros 3                            175       152.90112            \n",
       "19 Viva - A Vida é Uma Festa           175       209.72601            \n",
       "20 Os Incríveis 2                      200       608.58174            \n",
       "21 Toy Story 4                         200       434.03801            \n",
       "22 Dois Irmãos: Uma Jornada Fantástica 175        61.55515            \n",
       "23 Soul                                175              NA            \n",
       "   bilheteria_outros_paises bilheteria_mundial\n",
       "1  181.75780                 373.5540         \n",
       "2  200.46029                 363.2589         \n",
       "3  251.52260                 497.3748         \n",
       "4  342.40039                 632.3166         \n",
       "5  531.30000                 871.0150         \n",
       "6  370.16562                 631.6067         \n",
       "7  217.90017                 461.9831         \n",
       "8  417.28043                 623.7261         \n",
       "9  297.50370                 521.3119         \n",
       "10 442.09492                 735.0991         \n",
       "11 651.96482                1066.9697         \n",
       "12 368.40000                 559.8524         \n",
       "13 301.70000                 538.9832         \n",
       "14 475.06684                 743.5596         \n",
       "15 501.14946                 857.6112         \n",
       "16 209.12055                 332.2077         \n",
       "17 542.27533                1028.5709         \n",
       "18 231.02954                 383.9307         \n",
       "19 597.35618                 807.0822         \n",
       "20 634.22361                1242.8054         \n",
       "21 639.35658                1073.3946         \n",
       "22  80.39498                 141.9501         \n",
       "23 135.43532                 135.4353         "
      ]
     },
     "metadata": {},
     "output_type": "display_data"
    }
   ],
   "source": [
    "View(dados1)"
   ]
  },
  {
   "cell_type": "markdown",
   "metadata": {},
   "source": [
    "# Gráficos   \n",
    "## Orçamento por filme\n",
    "\n",
    "  Neste gráfico podemos observar quais filmes tiveram melhor orçamento para sua produção"
   ]
  },
  {
   "cell_type": "code",
   "execution_count": 12,
   "metadata": {
    "vscode": {
     "languageId": "r"
    }
   },
   "outputs": [
    {
     "name": "stderr",
     "output_type": "stream",
     "text": [
      "Warning message in geom_col(stat = \"identity\", width = 1):\n",
      "\"\u001b[1m\u001b[22mIgnoring unknown parameters: `stat`\"\n",
      "\u001b[1m\u001b[22mScale for \u001b[32my\u001b[39m is already present.\n",
      "Adding another scale for \u001b[32my\u001b[39m, which will replace the existing scale.\n"
     ]
    },
    {
     "data": {
      "image/png": "[encoded data removed]",
      "text/plain": [
       "plot without title"
      ]
     },
     "metadata": {
      "image/png": {
       "height": 420,
       "width": 420
      }
     },
     "output_type": "display_data"
    }
   ],
   "source": [
    "dados <- pixar_bilheteria\n",
    "dados[c(\"orcamento\", \"bilheteria_eua_canada\", \"bilheteria_outros_paises\",\n",
    "         \"bilheteria_mundial\")] <- dados[c(\"orcamento\", \"bilheteria_eua_canada\", \"bilheteria_outros_paises\",\"bilheteria_mundial\")]/1e6\n",
    "dados1 <- slice(dados, -24)\n",
    "ggplot(dados1, aes(x = reorder(filme, orcamento), y = orcamento, fill = filme, label = orcamento))+\n",
    "  geom_col(stat = \"identity\", width = 1.0)+\n",
    "  coord_flip()+\n",
    "  scale_fill_manual(values = c(\"WALL-E\" = \"gold\",\n",
    "                               \"Viva - A Vida é Uma Festa\" = \"navy\",\n",
    "                    \"Vida de Inseto\" = \"navy\",\n",
    "                    \"Valente\" = \"navy\",\n",
    "                    \"Up - Altas Aventuras\" = \"gold\",\n",
    "                    \"Universidade Monstros\" = \"navy\",\n",
    "                    \"Toy Story 4\" = \"gold\",\n",
    "                    \"Toy Story 3\" = \"navy\",\n",
    "                    \"Toy Story 2\" = \"gold\",\n",
    "                     \"Toy Story - Um Mundo de Aventuras\" = \"navy\",\n",
    "                    \"Soul\" = \"navy\",\n",
    "                    \"Ratatouille\" = \"gold\",\n",
    "                    \"Procurando Nemo\" = \"gold\",\n",
    "                    \"Procurando Dory\" = \"gold\",\n",
    "                    \"Os Incríveis 2\" = \"navy\",\n",
    "                    \"Os Incríveis\" = \"navy\",\n",
    "                    \"O Bom Dinossauro\" = \"gold\",\n",
    "                    \"Monstros S. A.\" = \"navy\",\n",
    "                    \"Dois Irmãos: Uma Jornada Fantástica\" = \"navy\",\n",
    "                    \"Divertidamente\" = \"gold\",\n",
    "                    \"Carros 3\" = \"navy\",\n",
    "                    \"Carros 2\" = \"gold\",\n",
    "                    \"Carros\" = \"gold\"\n",
    "                     ))+\n",
    "  theme_replace()+\n",
    "  theme(legend.position=\"none\")+\n",
    "  geom_label(fill = \"white\", alpha = 0.7, size = 3.0)+\n",
    "  scale_y_continuous(expand = expansion(add = c(0,0)))+\n",
    "ggplot2::scale_y_continuous()+\n",
    "  labs(y = \"Orçamento (em mihões)\", x = \"Filme\")"
   ]
  },
  {
   "cell_type": "markdown",
   "metadata": {},
   "source": [
    "## Comparando as Bilheterias   \n",
    "\n",
    "  Neste gráfico comparamos a bilheteria arrecadada nos Estados Unidos e Canadá com o restantante do mundo. Podemos observar que os dois países lideram o consumo de filmes e representam juntos quase metade de todo o valor arrecadado mundialmente."
   ]
  },
  {
   "cell_type": "code",
   "execution_count": 13,
   "metadata": {
    "vscode": {
     "languageId": "r"
    }
   },
   "outputs": [
    {
     "data": {
      "image/png": "[encoded data removed]",
      "text/plain": [
       "plot without title"
      ]
     },
     "metadata": {
      "image/png": {
       "height": 420,
       "width": 420
      }
     },
     "output_type": "display_data"
    }
   ],
   "source": [
    "dados <- pixar_bilheteria\n",
    "dados[c(\"orcamento\", \"bilheteria_eua_canada\", \"bilheteria_outros_paises\",\n",
    "         \"bilheteria_mundial\")] <- dados[c(\"orcamento\", \"bilheteria_eua_canada\", \"bilheteria_outros_paises\",\"bilheteria_mundial\")]/1e6\n",
    "dados2 <- dados |> \n",
    "  select (-orcamento, -bilheteria_mundial) |> \n",
    "  mutate(filme = fct_inorder(filme)) |> \n",
    "  pivot_longer(cols = c(\"bilheteria_eua_canada\", \"bilheteria_outros_paises\"),\n",
    "               names_to = \"bilheteria\",\n",
    "               values_to = \"valor\") |>\n",
    "  mutate(bilheteria = case_when(\n",
    "    bilheteria == \"bilheteria_eua_canada\" ~ \"Bilheteria EUA/CA\",\n",
    "    bilheteria == \"bilheteria_outros_paises\" ~ \"Bilheteria de Outros Países\"\n",
    "  )) |> \n",
    "  drop_na()\n",
    "dados2 |> \n",
    "  ggplot(aes(x = filme, y = valor, col = bilheteria)) +\n",
    "  geom_point() +\n",
    "  geom_line(aes(group = bilheteria)) +\n",
    "  scale_color_brewer(palette = \"Dark2\") +\n",
    "  labs(x = \"Filmes Pixar\", y = \"Bilheteria (em milhões)\") +\n",
    "  guides(col = guide_legend(title = \"Bilheteria\")) +\n",
    "  theme_minimal() +\n",
    "  theme(axis.text.x = element_text(angle = 90, vjust = 0.5),\n",
    "        legend.position = \"bottom\")"
   ]
  },
  {
   "cell_type": "markdown",
   "metadata": {},
   "source": [
    "## Comparando Avaliações com as Bilheterias    \n",
    " \n",
    "  Aqui podemos observar que a bilheteria dos filmes pode ser correlacionada com o valor arçamentário que o filme teve para ser produzido porém, a nota, mesmo com observações consideráveis, não tem resultados conclusívos a respeito da sua correlação com o orçamento."
   ]
  },
  {
   "cell_type": "code",
   "execution_count": 14,
   "metadata": {
    "vscode": {
     "languageId": "r"
    }
   },
   "outputs": [
    {
     "name": "stderr",
     "output_type": "stream",
     "text": [
      "\u001b[1m\u001b[22m`geom_smooth()` using formula = 'y ~ x'\n",
      "Warning message:\n",
      "\"\u001b[1m\u001b[22mRemoved 1 rows containing non-finite values (`stat_smooth()`).\"\n",
      "Warning message:\n",
      "\"\u001b[1m\u001b[22mRemoved 1 rows containing missing values (`geom_point()`).\"\n"
     ]
    },
    {
     "data": {
      "image/png": "[encoded data removed]",
      "text/plain": [
       "plot without title"
      ]
     },
     "metadata": {
      "image/png": {
       "height": 420,
       "width": 420
      }
     },
     "output_type": "display_data"
    }
   ],
   "source": [
    "dados3 <- pixar_avalicao_publico\n",
    "dados4 <- merge.data.frame(dados, dados3)\n",
    "ggplot(dados4, aes(x = bilheteria_mundial, y = nota_rotten_tomatoes,\n",
    "                   color = orcamento))+\n",
    "  geom_point(size = 5.0)+\n",
    "  scale_color_gradient(low = \"blue\", high = \"red\")+\n",
    "  stat_smooth(method = \"lm\", col = \"red\")+\n",
    "  labs(x = \"Bilheteria Mundial (em milhões)\", y = \"Rotten Tomatoes\")"
   ]
  }
 ],
 "metadata": {
  "kernelspec": {
   "display_name": "R",
   "language": "R",
   "name": "ir"
  },
  "language_info": {
   "codemirror_mode": "r",
   "file_extension": ".r",
   "mimetype": "text/x-r-source",
   "name": "R",
   "pygments_lexer": "r",
   "version": "4.2.2"
  }
 },
 "nbformat": 4,
 "nbformat_minor": 2
}
